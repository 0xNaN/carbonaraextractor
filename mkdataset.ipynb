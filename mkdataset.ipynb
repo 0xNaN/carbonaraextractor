{
 "cells": [
  {
   "cell_type": "code",
   "execution_count": 1,
   "metadata": {},
   "outputs": [],
   "source": [
    "import os\n",
    "import lxml.html as lx\n",
    "\n",
    "import DefaultFeatures\n",
    "import DomUtils \n",
    "from FeaturesExtractor import *\n",
    "\n",
    "def csv_line(features, other=[]):\n",
    "    f = []\n",
    "    for k, v in sorted(other, key=lambda pair: pair[0]):\n",
    "        f.append(v)\n",
    "        \n",
    "    for name in sorted(features.keys()):\n",
    "        f.append(str(features[name]))\n",
    "        \n",
    "    return \"\\t\".join(f)\n",
    "\n",
    "def csv_header_from_features(features, other=[]):\n",
    "    header = []\n",
    "    for k in sorted(other):\n",
    "        header.append(k)\n",
    "    \n",
    "    header = header + sorted(features.keys())\n",
    "    return \"\\t\".join(header)\n",
    "    \n",
    "def read_xpath_ground_truth(path):\n",
    "    domain2xpath = {}\n",
    "    with open(path, \"r\") as gf:\n",
    "        for line in gf.readlines():\n",
    "            domain = line.split(\"\\t\")[0]\n",
    "            xpath = line.split(\"\\t\")[1]\n",
    "            \n",
    "            if domain not in domain2xpath:\n",
    "                domain2xpath[domain] = []\n",
    "            domain2xpath[domain].append(xpath.strip()) \n",
    "    return domain2xpath"
   ]
  },
  {
   "cell_type": "code",
   "execution_count": 2,
   "metadata": {},
   "outputs": [
    {
     "data": {
      "text/plain": [
       "['number_tr',\n",
       " 'number_th',\n",
       " 'number_td',\n",
       " 'number_links',\n",
       " 'depth',\n",
       " 'number_relevants',\n",
       " 'number_bold',\n",
       " 'number_p',\n",
       " 'number_br',\n",
       " 'number_img',\n",
       " 'number_li',\n",
       " 'number_div']"
      ]
     },
     "execution_count": 2,
     "metadata": {},
     "output_type": "execute_result"
    }
   ],
   "source": [
    "dataset_path = os.sep.join([\"..\", \"camera\"])\n",
    "#dataset_path = \"/run/media/nan/agiw/camera/\"\n",
    "\n",
    "domain2xpath = read_xpath_ground_truth(\"data/table_xpath_ground_truth.txt\")\n",
    "\n",
    "# Extract default features\n",
    "features = DefaultFeatures.table\n",
    "list(features.keys())"
   ]
  },
  {
   "cell_type": "code",
   "execution_count": 3,
   "metadata": {},
   "outputs": [],
   "source": [
    "# ...and/or extend with new features"
   ]
  },
  {
   "cell_type": "code",
   "execution_count": 7,
   "metadata": {},
   "outputs": [
    {
     "name": "stdout",
     "output_type": "stream",
     "text": [
      "www.submarino.com.br, relevant: 90, not_relevant: 0\n"
     ]
    }
   ],
   "source": [
    "with open(\"table_features.txt\", \"w\") as tf:\n",
    "    ft = FeaturesExtractor()\n",
    "    \n",
    "    # write header\n",
    "    header = csv_header_from_features(features, other=['file', 'relevant'])\n",
    "    tf.write(\"{}\\n\".format(header))\n",
    "    \n",
    "    #analyze each domain\n",
    "    #for domain in [\"www.submarino.com.br\"]:\n",
    "    for domain in domain2xpath:\n",
    "            \n",
    "        relevant_count = 0\n",
    "        not_relevant_count = 0\n",
    "    \n",
    "        for page in os.listdir(os.sep.join([dataset_path, domain])):\n",
    "            if not page.endswith(\"html\"):\n",
    "                continue\n",
    "            \n",
    "            file_name = os.sep.join([domain, page])\n",
    "            full_file_path = os.sep.join([dataset_path, file_name])\n",
    "\n",
    "            dom = lx.parse(full_file_path)\n",
    "        \n",
    "            # apply any known xpath and save features of any item\n",
    "            relevants_items = set()\n",
    "            for xpath in domain2xpath[domain]:\n",
    "            \n",
    "                for node in dom.xpath(xpath):\n",
    "                    relevant_count += 1\n",
    "                    relevants_items.add(node)\n",
    "                    \n",
    "                    extracted = ft.extract(node, selected=list(features.keys()), \n",
    "                                                 features_descriptor=features)\n",
    "                    \n",
    "                    line = csv_line(extracted, other=[('file', file_name),\n",
    "                                                      ('relevant', \"1\")])\n",
    "                    tf.write(\"{}\\n\".format(line))\n",
    "                    \n",
    "            # save features of any other not relevant node\n",
    "            for node in dom.xpath(\"//table\"):\n",
    "                if node not in relevants_items:\n",
    "                    not_relevant_count += 1\n",
    "                    \n",
    "                    extracted = ft.extract(node, selected=list(features.keys()), \n",
    "                                                 features_descriptor=features)\n",
    "                    \n",
    "                    line = csv_line(extracted, other=[('file', file_name),\n",
    "                                                     ('relevant', \"0\")])\n",
    "                    tf.write(\"{}\\n\".format(line))\n",
    "        print(\"{}, relevant: {}, not_relevant: {}\".format(domain, relevant_count, not_relevant_count))"
   ]
  },
  {
   "cell_type": "markdown",
   "metadata": {},
   "source": [
    "## note\n",
    "- ho notato che nel footer di amazon (una grande tabella), ci sono molti termini di dominio (81):\n",
    "  (11, 0, 83, 0, 40, 81)\n",
    "  il che suggerisce che il vocabolario non è molto verticale. Sono presenti molti link (83) che dovrebbero\n",
    "  suggerire al classificatore di scartare questa tabella. Ad ogni modo va perfezionato il vocabolario"
   ]
  },
  {
   "cell_type": "code",
   "execution_count": null,
   "metadata": {},
   "outputs": [],
   "source": []
  }
 ],
 "metadata": {
  "kernelspec": {
   "display_name": "Python 3",
   "language": "python",
   "name": "python3"
  },
  "language_info": {
   "codemirror_mode": {
    "name": "ipython",
    "version": 3
   },
   "file_extension": ".py",
   "mimetype": "text/x-python",
   "name": "python",
   "nbconvert_exporter": "python",
   "pygments_lexer": "ipython3",
   "version": "3.6.5"
  }
 },
 "nbformat": 4,
 "nbformat_minor": 2
}
