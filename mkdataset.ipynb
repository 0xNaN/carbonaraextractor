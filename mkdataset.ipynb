{
 "cells": [
  {
   "cell_type": "code",
   "execution_count": 1,
   "metadata": {},
   "outputs": [],
   "source": [
    "import os\n",
    "import lxml.html as lx\n",
    "\n",
    "import DefaultFeatures\n",
    "import DomUtils \n",
    "from FeaturesExtractor import *\n",
    "\n",
    "def csv_line(features, other=[]):\n",
    "    f = []\n",
    "    for k, v in sorted(other, key=lambda pair: pair[0]):\n",
    "        f.append(v)\n",
    "        \n",
    "    for name in sorted(features.keys()):\n",
    "        f.append(str(features[name]))\n",
    "        \n",
    "    return \"\\t\".join(f)\n",
    "\n",
    "def csv_header_from_features(features, other=[]):\n",
    "    header = []\n",
    "    for k in sorted(other):\n",
    "        header.append(k)\n",
    "    \n",
    "    header = header + sorted(features.keys())\n",
    "    return \"\\t\".join(header)\n",
    "    \n",
    "def read_xpath_ground_truth(path):\n",
    "    domain2xpath = {}\n",
    "    with open(path, \"r\") as gf:\n",
    "        for line in gf.readlines():\n",
    "            domain = line.split(\"\\t\")[0].strip()\n",
    "            xpath = line.split(\"\\t\")[1]\n",
    "            \n",
    "            if domain not in domain2xpath:\n",
    "                domain2xpath[domain] = []\n",
    "            domain2xpath[domain].append(xpath.strip()) \n",
    "    return domain2xpath"
   ]
  },
  {
   "cell_type": "code",
   "execution_count": 2,
   "metadata": {},
   "outputs": [
    {
     "data": {
      "text/plain": [
       "['number_row',\n",
       " 'number_relevants',\n",
       " 'relevants_ratio',\n",
       " 'number_links',\n",
       " 'number_bold',\n",
       " 'number_img',\n",
       " 'number_div',\n",
       " 'number_p',\n",
       " 'number_br',\n",
       " 'depth',\n",
       " 'avg_tag_in_li']"
      ]
     },
     "execution_count": 2,
     "metadata": {},
     "output_type": "execute_result"
    }
   ],
   "source": [
    "#dataset_path = os.sep.join([\"..\", \"camera\"])\n",
    "dataset_path = \"/run/media/nan/agiw/camera/\"\n",
    "\n",
    "domain2xpath = read_xpath_ground_truth(\"data/list_xpath_ground_truth.txt\")\n",
    "\n",
    "# Extract default features\n",
    "features = DefaultFeatures.list\n",
    "list(features.keys())"
   ]
  },
  {
   "cell_type": "code",
   "execution_count": 3,
   "metadata": {},
   "outputs": [],
   "source": [
    "# ...and/or extend with new features"
   ]
  },
  {
   "cell_type": "code",
   "execution_count": 4,
   "metadata": {},
   "outputs": [
    {
     "ename": "FileNotFoundError",
     "evalue": "[Errno 2] No such file or directory: '/run/media/nan/agiw/camera//www.crazool.com'",
     "output_type": "error",
     "traceback": [
      "\u001b[0;31m---------------------------------------------------------------------------\u001b[0m",
      "\u001b[0;31mFileNotFoundError\u001b[0m                         Traceback (most recent call last)",
      "\u001b[0;32m<ipython-input-4-5ce87d6bac68>\u001b[0m in \u001b[0;36m<module>\u001b[0;34m()\u001b[0m\n\u001b[1;32m     17\u001b[0m         \u001b[0mnot_relevant_count\u001b[0m \u001b[0;34m=\u001b[0m \u001b[0;36m0\u001b[0m\u001b[0;34m\u001b[0m\u001b[0m\n\u001b[1;32m     18\u001b[0m \u001b[0;34m\u001b[0m\u001b[0m\n\u001b[0;32m---> 19\u001b[0;31m         \u001b[0;32mfor\u001b[0m \u001b[0mpage\u001b[0m \u001b[0;32min\u001b[0m \u001b[0mos\u001b[0m\u001b[0;34m.\u001b[0m\u001b[0mlistdir\u001b[0m\u001b[0;34m(\u001b[0m\u001b[0mos\u001b[0m\u001b[0;34m.\u001b[0m\u001b[0msep\u001b[0m\u001b[0;34m.\u001b[0m\u001b[0mjoin\u001b[0m\u001b[0;34m(\u001b[0m\u001b[0;34m[\u001b[0m\u001b[0mdataset_path\u001b[0m\u001b[0;34m,\u001b[0m \u001b[0mdomain\u001b[0m\u001b[0;34m]\u001b[0m\u001b[0;34m)\u001b[0m\u001b[0;34m)\u001b[0m\u001b[0;34m:\u001b[0m\u001b[0;34m\u001b[0m\u001b[0m\n\u001b[0m\u001b[1;32m     20\u001b[0m             \u001b[0;32mif\u001b[0m \u001b[0;32mnot\u001b[0m \u001b[0mpage\u001b[0m\u001b[0;34m.\u001b[0m\u001b[0mendswith\u001b[0m\u001b[0;34m(\u001b[0m\u001b[0;34m\"html\"\u001b[0m\u001b[0;34m)\u001b[0m\u001b[0;34m:\u001b[0m\u001b[0;34m\u001b[0m\u001b[0m\n\u001b[1;32m     21\u001b[0m                 \u001b[0;32mcontinue\u001b[0m\u001b[0;34m\u001b[0m\u001b[0m\n",
      "\u001b[0;31mFileNotFoundError\u001b[0m: [Errno 2] No such file or directory: '/run/media/nan/agiw/camera//www.crazool.com'"
     ]
    }
   ],
   "source": [
    "with open(\"list_features.txt\", \"w\") as tf:\n",
    "    ft = FeaturesExtractor()\n",
    "    \n",
    "    # write header\n",
    "    header = csv_header_from_features(features, other=['file', 'relevant'])\n",
    "    tf.write(\"{}\\n\".format(header))\n",
    "    \n",
    "    #analyze each domain\n",
    "    #for domain in [\"walmart.com\"]:\n",
    "    for domain in domain2xpath:\n",
    "        if (domain == \"walmart.com\" or domain == \"ebay.com\" or domain == \"amazon.com\" or\n",
    "            domain == \"www.amazon.fr\" or domain == \"www.amazon.in\" or domain == \"www.amazon.co.uk\"):\n",
    "            continue\n",
    "        \n",
    "        domain = domain.strip()\n",
    "        relevant_count = 0\n",
    "        not_relevant_count = 0\n",
    "    \n",
    "        for page in os.listdir(os.sep.join([dataset_path, domain])):\n",
    "            if not page.endswith(\"html\"):\n",
    "                continue\n",
    "            \n",
    "            file_name = os.sep.join([domain, page])\n",
    "            full_file_path = os.sep.join([dataset_path, file_name])\n",
    "\n",
    "            dom = lx.parse(full_file_path)\n",
    "        \n",
    "            # apply any known xpath and save features of any item\n",
    "            relevants_items = set()\n",
    "            for xpath in domain2xpath[domain]:\n",
    "                \n",
    "                for node in dom.xpath(xpath):\n",
    "                    relevant_count += 1\n",
    "                    relevants_items.add(node)\n",
    "                    \n",
    "                    extracted = ft.extract(node, selected=list(features.keys()), \n",
    "                                                 features_descriptor=features)\n",
    "                    \n",
    "                    line = csv_line(extracted, other=[('file', file_name),\n",
    "                                                      ('relevant', \"1\")])\n",
    "                    tf.write(\"{}\\n\".format(line))\n",
    "                    \n",
    "            # save features of any other not relevant node\n",
    "            #nodes = dom.xpath(\"//table\")\n",
    "            \n",
    "            nodes = set(dom.xpath(\"//ol\"))\n",
    "            nodes = nodes.union(set(dom.xpath(\"//ul\")))\n",
    "            nodes = nodes.union(set(dom.xpath(\"//dl\")))\n",
    "            \n",
    "            for node in nodes:\n",
    "                if node not in relevants_items:\n",
    "                    not_relevant_count += 1\n",
    "                    \n",
    "                    extracted = ft.extract(node, selected=list(features.keys()), \n",
    "                                                 features_descriptor=features)\n",
    "                    \n",
    "                    line = csv_line(extracted, other=[('file', file_name),\n",
    "                                                     ('relevant', \"0\")])\n",
    "                    tf.write(\"{}\\n\".format(line))\n",
    "        print(\"{}, relevant: {}, not_relevant: {}\".format(domain, relevant_count, not_relevant_count))"
   ]
  },
  {
   "cell_type": "code",
   "execution_count": null,
   "metadata": {},
   "outputs": [],
   "source": [
    "import pandas"
   ]
  },
  {
   "cell_type": "code",
   "execution_count": null,
   "metadata": {},
   "outputs": [],
   "source": [
    "d = pandas.read_csv(\"list_features.txt\", sep=\"\\t\")"
   ]
  },
  {
   "cell_type": "code",
   "execution_count": null,
   "metadata": {},
   "outputs": [],
   "source": [
    "d.head()"
   ]
  },
  {
   "cell_type": "code",
   "execution_count": null,
   "metadata": {},
   "outputs": [],
   "source": [
    "d = d.drop('file', 1)\n",
    "\n",
    "group_by_keys = list(d.keys())\n",
    "group_by_keys.remove(\"relevants_ratio\")\n",
    "\n",
    "d.head()"
   ]
  },
  {
   "cell_type": "code",
   "execution_count": null,
   "metadata": {},
   "outputs": [],
   "source": [
    "import random\n",
    "\n",
    "k = d.groupby(group_by_keys)\n",
    "with open(\"list.txt\", \"w\") as tf:\n",
    "    \n",
    "    tf.write(\"\\t\".join(list(d.keys())) + \"\\n\") \n",
    "    \n",
    "    l = list(k[\"relevants_ratio\"].apply(list).iteritems())\n",
    "    random.shuffle(l)\n",
    "    \n",
    "    for values, relenvats_ratios in l:\n",
    "        \n",
    "        chosen_ratio = random.choice(relenvats_ratios)\n",
    "        \n",
    "        values = list(values) + [chosen_ratio]\n",
    "        values = [str(round(v, 2)) for v in values]\n",
    "        \n",
    "        line = \"\\t\".join(values)\n",
    "        \n",
    "        tf.write(line + \"\\n\")"
   ]
  }
 ],
 "metadata": {
  "kernelspec": {
   "display_name": "Python 3",
   "language": "python",
   "name": "python3"
  },
  "language_info": {
   "codemirror_mode": {
    "name": "ipython",
    "version": 3
   },
   "file_extension": ".py",
   "mimetype": "text/x-python",
   "name": "python",
   "nbconvert_exporter": "python",
   "pygments_lexer": "ipython3",
   "version": "3.6.5"
  }
 },
 "nbformat": 4,
 "nbformat_minor": 2
}
