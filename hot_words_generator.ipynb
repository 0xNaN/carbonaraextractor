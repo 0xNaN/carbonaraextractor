{
 "cells": [
  {
   "cell_type": "code",
   "execution_count": null,
   "metadata": {},
   "outputs": [],
   "source": [
    "import os\n",
    "from bs4 import BeautifulSoup\n",
    "import lxml\n",
    "from lxml.html.clean import Cleaner\n",
    "from collections import OrderedDict\n",
    "from operator import itemgetter\n",
    "import json\n",
    "import nltk\n",
    "import string\n",
    "from nltk.tokenize import sent_tokenize, word_tokenize\n",
    "from nltk.corpus import stopwords"
   ]
  },
  {
   "cell_type": "code",
   "execution_count": null,
   "metadata": {},
   "outputs": [],
   "source": [
    "camera_path = \"./camera/\"\n",
    "text = []\n",
    "\n",
    "for domain in os.listdir(camera_path):\n",
    "    if domain != '.DS_Store':\n",
    "        for site in os.listdir(camera_path + domain):\n",
    "            if site.endswith(\".html\"):\n",
    "                with open(camera_path + domain + \"/\" + site) as curr:\n",
    "                    soup = BeautifulSoup(curr, \"lxml\")\n",
    "\n",
    "                    for script in soup.find_all(['script', 'style']):\n",
    "                        script.decompose()\n",
    "                    soup = soup.get_text()\n",
    "                    text.append(soup)\n",
    "                    break                    "
   ]
  },
  {
   "cell_type": "code",
   "execution_count": null,
   "metadata": {},
   "outputs": [],
   "source": [
    "clean_text = []\n",
    "for t in text:\n",
    "    t = os.linesep.join([s for s in t.splitlines() if s])\n",
    "    clean_text.append(t)"
   ]
  },
  {
   "cell_type": "code",
   "execution_count": null,
   "metadata": {},
   "outputs": [],
   "source": [
    "def is_punctuation(word):\n",
    "    for char in word:\n",
    "        if char in string.punctuation:\n",
    "            return True\n",
    "    return False"
   ]
  },
  {
   "cell_type": "code",
   "execution_count": null,
   "metadata": {},
   "outputs": [],
   "source": [
    "strings = str(clean_text)\n",
    " \n",
    "stop_words = set(stopwords.words('english'))\n",
    "words = word_tokenize(strings)\n",
    "words_filtered = []\n",
    "count_punct = 0\n",
    "\n",
    "for w in words:\n",
    "    w = w.lower()\n",
    "    if w not in stop_words:\n",
    "        if not is_punctuation(w):\n",
    "            words_filtered.append(w)\n",
    "        else:\n",
    "            count_punct += 1"
   ]
  },
  {
   "cell_type": "code",
   "execution_count": null,
   "metadata": {},
   "outputs": [],
   "source": [
    "porter = nltk.stem.PorterStemmer()\n",
    "\n",
    "stems = []\n",
    "\n",
    "for word in words_filtered:\n",
    "    stem = porter.stem(word)\n",
    "    stems.append(stem)"
   ]
  },
  {
   "cell_type": "code",
   "execution_count": null,
   "metadata": {},
   "outputs": [],
   "source": [
    "stem2freq = {}\n",
    "count = 0\n",
    "for stem in stems:\n",
    "    if stem in stem2freq.keys():\n",
    "        count = stem2freq[stem] + 1\n",
    "        stem2freq[stem] = count\n",
    "    else:\n",
    "        stem2freq[stem] = 1"
   ]
  },
  {
   "cell_type": "code",
   "execution_count": null,
   "metadata": {},
   "outputs": [],
   "source": [
    "stem2freq"
   ]
  },
  {
   "cell_type": "code",
   "execution_count": null,
   "metadata": {},
   "outputs": [],
   "source": [
    "hottest_stems = {k: v for k, v in stem2freq.items() if len(k) >= 3}"
   ]
  },
  {
   "cell_type": "code",
   "execution_count": null,
   "metadata": {},
   "outputs": [],
   "source": [
    "hottest_stems"
   ]
  },
  {
   "cell_type": "code",
   "execution_count": null,
   "metadata": {},
   "outputs": [],
   "source": [
    "hottest_stems_ordered = [(k, hottest_stems[k]) for k in sorted(hottest_stems, key=hottest_stems.get, reverse=True)]"
   ]
  },
  {
   "cell_type": "code",
   "execution_count": null,
   "metadata": {},
   "outputs": [],
   "source": [
    "hottest_stems_ordered"
   ]
  },
  {
   "cell_type": "code",
   "execution_count": null,
   "metadata": {},
   "outputs": [],
   "source": [
    "count = 1\n",
    "hot_words = []\n",
    "for hot_word, freq in hottest_stems_ordered:\n",
    "    if count < 200:\n",
    "        hot_words.append(hot_word)\n",
    "    count += 1"
   ]
  },
  {
   "cell_type": "code",
   "execution_count": null,
   "metadata": {},
   "outputs": [],
   "source": [
    "hot_words"
   ]
  },
  {
   "cell_type": "code",
   "execution_count": null,
   "metadata": {},
   "outputs": [],
   "source": [
    "with open('./data/and/camera_hot_words.txt', 'w') as file:\n",
    "    for hot_word in hot_words:\n",
    "        file.write(hot_word + '\\n')"
   ]
  }
 ],
 "metadata": {
  "kernelspec": {
   "display_name": "Python 3",
   "language": "python",
   "name": "python3"
  },
  "language_info": {
   "codemirror_mode": {
    "name": "ipython",
    "version": 3
   },
   "file_extension": ".py",
   "mimetype": "text/x-python",
   "name": "python",
   "nbconvert_exporter": "python",
   "pygments_lexer": "ipython3",
   "version": "3.6.4"
  }
 },
 "nbformat": 4,
 "nbformat_minor": 2
}
